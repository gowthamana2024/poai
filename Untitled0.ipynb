{
  "nbformat": 4,
  "nbformat_minor": 0,
  "metadata": {
    "colab": {
      "provenance": [],
      "authorship_tag": "ABX9TyMG+ABpsYMWdi+7PwXWktFh",
      "include_colab_link": true
    },
    "kernelspec": {
      "name": "python3",
      "display_name": "Python 3"
    },
    "language_info": {
      "name": "python"
    }
  },
  "cells": [
    {
      "cell_type": "markdown",
      "metadata": {
        "id": "view-in-github",
        "colab_type": "text"
      },
      "source": [
        "<a href=\"https://colab.research.google.com/github/gowthamana2024/poai/blob/main/Untitled0.ipynb\" target=\"_parent\"><img src=\"https://colab.research.google.com/assets/colab-badge.svg\" alt=\"Open In Colab\"/></a>"
      ]
    },
    {
      "cell_type": "code",
      "execution_count": 7,
      "metadata": {
        "colab": {
          "base_uri": "https://localhost:8080/"
        },
        "id": "RY1tbae9Jw60",
        "outputId": "e1aed4b8-86bf-44d8-d7b1-0574559d69f0"
      },
      "outputs": [
        {
          "output_type": "stream",
          "name": "stdout",
          "text": [
            "Q . . . . . . .\n",
            ". . . . Q . . .\n",
            ". . . . . . . Q\n",
            ". . . . . Q . .\n",
            ". . Q . . . . .\n",
            ". . . . . . Q .\n",
            ". Q . . . . . .\n",
            ". . . Q . . . .\n",
            "\n",
            "\n",
            "Solution found!\n"
          ]
        }
      ],
      "source": [
        "# Function to print the chessboard\n",
        "def print_board(board):\n",
        "    for row in board:\n",
        "        print(\" \".join(['Q' if cell else '.' for cell in row]))\n",
        "    print(\"\\n\")\n",
        "\n",
        "# Check if it's safe to place a queen at board[row][col]\n",
        "def is_safe(board, row, col):\n",
        "    # Check the column\n",
        "    for i in range(row):\n",
        "        if board[i][col] == 1:\n",
        "            return False\n",
        "\n",
        "    # Check the left diagonal\n",
        "    for i, j in zip(range(row - 1, -1, -1), range(col - 1, -1, -1)):\n",
        "        if board[i][j] == 1:\n",
        "            return False\n",
        "\n",
        "    # Check the right diagonal\n",
        "    for i, j in zip(range(row - 1, -1, -1), range(col + 1, len(board), 1)):\n",
        "        if board[i][j] == 1:\n",
        "            return False\n",
        "\n",
        "    return True\n",
        "\n",
        "# Backtracking function to solve the 8 Queens problem\n",
        "def solve(board, row):\n",
        "    n = len(board)\n",
        "    if row == n:\n",
        "        print_board(board)\n",
        "        return True  # Only return True after printing one solution\n",
        "\n",
        "    for col in range(n):\n",
        "        if is_safe(board, row, col):\n",
        "            board[row][col] = 1  # Place the queen\n",
        "            if solve(board, row + 1):  # Recur to place the rest of the queens\n",
        "                return True  # Return True as soon as one solution is found\n",
        "            board[row][col] = 0  # Backtrack (remove the queen)\n",
        "\n",
        "    return False  # If no solution is found\n",
        "\n",
        "# Main function to initialize the board and call the solve function\n",
        "def solve_n_queens(n):\n",
        "    board = [[0 for _ in range(n)] for _ in range(n)]  # Initialize an empty chessboard\n",
        "    if not solve(board, 0):\n",
        "        print(\"Solution does not exist\")\n",
        "    else:\n",
        "        print(\"Solution found!\")\n",
        "\n",
        "# Driver code to solve 8 Queens problem\n",
        "solve_n_queens(8)\n",
        "\n"
      ]
    },
    {
      "cell_type": "code",
      "source": [
        "# Depth First Search (DFS) to explore a graph\n",
        "def dfs(graph, node, visited, component):\n",
        "    # Mark the node as visited\n",
        "    visited[node] = True\n",
        "    # Add the node to the current component\n",
        "    component.append(node)\n",
        "\n",
        "    # Visit all the neighbors of the node\n",
        "    for neighbor in graph[node]:\n",
        "        if not visited[neighbor]:\n",
        "            dfs(graph, neighbor, visited, component)\n",
        "\n",
        "# Function to find all connected components in the graph\n",
        "def find_connected_components(graph):\n",
        "    visited = [False] * len(graph)  # Track visited nodes\n",
        "    connected_components = []  # List to store all connected components\n",
        "\n",
        "    # Go through all nodes in the graph\n",
        "    for node in range(len(graph)):\n",
        "        if not visited[node]:\n",
        "            component = []  # New component\n",
        "            dfs(graph, node, visited, component)  # Perform DFS\n",
        "            connected_components.append(component)  # Add the component to the list\n",
        "\n",
        "    return connected_components\n",
        "\n",
        "# Example graph (adjacency list)\n",
        "graph = {\n",
        "    0: [1, 2],\n",
        "    1: [0, 2],\n",
        "    2: [0, 1],\n",
        "    3: [4],\n",
        "    4: [3],\n",
        "    5: []\n",
        "}\n",
        "\n",
        "# Find connected components in the graph\n",
        "connected_components = find_connected_components(graph)\n",
        "\n",
        "# Print the connected components\n",
        "print(\"Connected components:\", connected_components)\n"
      ],
      "metadata": {
        "colab": {
          "base_uri": "https://localhost:8080/"
        },
        "id": "rk05PU0pRb6E",
        "outputId": "d342ebf5-c6b3-4178-839a-55c7c496c743"
      },
      "execution_count": 8,
      "outputs": [
        {
          "output_type": "stream",
          "name": "stdout",
          "text": [
            "Connected components: [[0, 1, 2], [3, 4], [5]]\n"
          ]
        }
      ]
    },
    {
      "cell_type": "code",
      "source": [],
      "metadata": {
        "id": "_7DJhpd2Jx99"
      },
      "execution_count": null,
      "outputs": []
    }
  ]
}